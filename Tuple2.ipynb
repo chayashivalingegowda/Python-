{
  "nbformat": 4,
  "nbformat_minor": 0,
  "metadata": {
    "colab": {
      "name": "Tuple2.ipynb",
      "provenance": [],
      "authorship_tag": "ABX9TyOvNzTKB7nF6gIvNQpynEmH"
    },
    "kernelspec": {
      "name": "python3",
      "display_name": "Python 3"
    }
  },
  "cells": [
    {
      "cell_type": "code",
      "metadata": {
        "id": "j0AvyqaJieRF",
        "colab_type": "code",
        "colab": {}
      },
      "source": [
        ""
      ],
      "execution_count": null,
      "outputs": []
    },
    {
      "cell_type": "markdown",
      "metadata": {
        "id": "kzbka11iijbb",
        "colab_type": "text"
      },
      "source": [
        "Tuple\n",
        "A tuple is a collection of objects which is ordered and immutable. Tuples are similar to lists, the main difference ist the immutability. In Python tuples are written with round brackets and comma separated values.\n",
        "\n",
        "my_tuple = (\"Max\", 28, \"New York\")\n",
        "\n",
        "Reasons to use a tuple over a list¶\n",
        "Generally used for objects that Reasons to use a tuple over a list\n",
        "Generally used for objects that belong together.\n",
        "Use tuple for heterogeneous (different) datatypes and list for homogeneous (similar) datatypes.\n",
        "Since tuple are immutable, iterating through tuple is slightly faster than with list.\n",
        "Tuples with their immutable elements can be used as key for a dictionary. This is not possible with lists.\n",
        "If you have data that doesn't change, implementing it as tuple will guarantee that it remains write-protected.\n",
        "Create a tuple¶\n",
        "Tuples are created with round brackets and comma separated values. Or use the built-in tuple function."
      ]
    },
    {
      "cell_type": "code",
      "metadata": {
        "id": "XNvgguHJi1V5",
        "colab_type": "code",
        "colab": {
          "base_uri": "https://localhost:8080/",
          "height": 85
        },
        "outputId": "f2a236d8-d8c8-4c8a-fee3-2a069f698014"
      },
      "source": [
        "tuple_1 = (\"Max\", 28, \"New York\")\n",
        "tuple_2 = \"Linda\", 25, \"Miami\" # Parentheses are optional\n",
        "\n",
        "# Special case: a tuple with only one element needs to have a comma at the end, \n",
        "# otherwise it is not recognized as tuple\n",
        "tuple_3 = (25,)\n",
        "print(tuple_1)\n",
        "print(tuple_2)\n",
        "print(tuple_3)\n",
        "\n",
        "# Or convert an iterable (list, dict, string) with the built-in tuple function\n",
        "tuple_4 = tuple([1,2,3])\n",
        "print(tuple_4)"
      ],
      "execution_count": 2,
      "outputs": [
        {
          "output_type": "stream",
          "text": [
            "('Max', 28, 'New York')\n",
            "('Linda', 25, 'Miami')\n",
            "(25,)\n",
            "(1, 2, 3)\n"
          ],
          "name": "stdout"
        }
      ]
    },
    {
      "cell_type": "markdown",
      "metadata": {
        "id": "zCjw_MBhjIaV",
        "colab_type": "text"
      },
      "source": [
        "\n",
        "Access elements\n",
        "You access the tuple items by referring to the index number. Note that the indices start at 0."
      ]
    },
    {
      "cell_type": "code",
      "metadata": {
        "id": "0NRNlUEfjJ9c",
        "colab_type": "code",
        "colab": {
          "base_uri": "https://localhost:8080/",
          "height": 51
        },
        "outputId": "66952f36-addd-4d07-c073-144dcea9e0bb"
      },
      "source": [
        "item = tuple_1[0]\n",
        "print(item)\n",
        "# You can also use negative indexing, e.g -1 refers to the last item,\n",
        "# -2 to the second last item, and so on\n",
        "item = tuple_1[-1]\n",
        "print(item)"
      ],
      "execution_count": 3,
      "outputs": [
        {
          "output_type": "stream",
          "text": [
            "Max\n",
            "New York\n"
          ],
          "name": "stdout"
        }
      ]
    },
    {
      "cell_type": "markdown",
      "metadata": {
        "id": "05b98DIzjeFB",
        "colab_type": "text"
      },
      "source": [
        "Add or change items\n",
        "Not possible and will raise a TypeError."
      ]
    },
    {
      "cell_type": "code",
      "metadata": {
        "id": "JJ3OYQrJjibS",
        "colab_type": "code",
        "colab": {
          "base_uri": "https://localhost:8080/",
          "height": 180
        },
        "outputId": "3b55291e-6015-4ca9-edd3-6b98bc1a346f"
      },
      "source": [
        "\n",
        "tuple_1[2] = \"Boston\""
      ],
      "execution_count": 4,
      "outputs": [
        {
          "output_type": "error",
          "ename": "TypeError",
          "evalue": "ignored",
          "traceback": [
            "\u001b[0;31m---------------------------------------------------------------------------\u001b[0m",
            "\u001b[0;31mTypeError\u001b[0m                                 Traceback (most recent call last)",
            "\u001b[0;32m<ipython-input-4-8d0e7179096b>\u001b[0m in \u001b[0;36m<module>\u001b[0;34m()\u001b[0m\n\u001b[1;32m      1\u001b[0m \u001b[0;34m\u001b[0m\u001b[0m\n\u001b[0;32m----> 2\u001b[0;31m \u001b[0mtuple_1\u001b[0m\u001b[0;34m[\u001b[0m\u001b[0;36m2\u001b[0m\u001b[0;34m]\u001b[0m \u001b[0;34m=\u001b[0m \u001b[0;34m\"Boston\"\u001b[0m\u001b[0;34m\u001b[0m\u001b[0;34m\u001b[0m\u001b[0m\n\u001b[0m",
            "\u001b[0;31mTypeError\u001b[0m: 'tuple' object does not support item assignment"
          ]
        }
      ]
    },
    {
      "cell_type": "markdown",
      "metadata": {
        "id": "5ZfZBv5HlCWs",
        "colab_type": "text"
      },
      "source": [
        "Delete a tuple"
      ]
    },
    {
      "cell_type": "code",
      "metadata": {
        "id": "yxEMRLzulDeF",
        "colab_type": "code",
        "colab": {}
      },
      "source": [
        "del tuple_2"
      ],
      "execution_count": 5,
      "outputs": []
    },
    {
      "cell_type": "code",
      "metadata": {
        "id": "JqHh7n-SinGd",
        "colab_type": "code",
        "colab": {
          "base_uri": "https://localhost:8080/",
          "height": 68
        },
        "outputId": "461ef87b-76ca-4232-bb47-17444c7b744a"
      },
      "source": [
        "# Iterating over a tuple by using a for in loop\n",
        "for i in tuple_1:\n",
        "    print(i)"
      ],
      "execution_count": 6,
      "outputs": [
        {
          "output_type": "stream",
          "text": [
            "Max\n",
            "28\n",
            "New York\n"
          ],
          "name": "stdout"
        }
      ]
    },
    {
      "cell_type": "markdown",
      "metadata": {
        "id": "AT5YLFyClOUl",
        "colab_type": "text"
      },
      "source": [
        "Check if an item exists"
      ]
    },
    {
      "cell_type": "code",
      "metadata": {
        "id": "JCUqMxKblTSc",
        "colab_type": "code",
        "colab": {
          "base_uri": "https://localhost:8080/",
          "height": 34
        },
        "outputId": "6dd0d7ed-e64c-4fc2-df65-98aae643e9c6"
      },
      "source": [
        "if \"New York\" in tuple_1:\n",
        "    print(\"yes\")\n",
        "else:\n",
        "    print(\"no\")"
      ],
      "execution_count": 7,
      "outputs": [
        {
          "output_type": "stream",
          "text": [
            "yes\n"
          ],
          "name": "stdout"
        }
      ]
    },
    {
      "cell_type": "code",
      "metadata": {
        "id": "pxk6KoDKlYv7",
        "colab_type": "code",
        "colab": {
          "base_uri": "https://localhost:8080/",
          "height": 153
        },
        "outputId": "2ad4a716-1ad6-490d-81ba-162412c2287b"
      },
      "source": [
        "my_tuple = ('a','p','p','l','e',)\n",
        "\n",
        "# len() : get the number of elements in a tuple\n",
        "print(len(my_tuple))\n",
        "\n",
        "# count(x) : Return the number of items that is equal to x\n",
        "print(my_tuple.count('p'))\n",
        "\n",
        "# index(x) : Return index of first item that is equal to x\n",
        "print(my_tuple.index('l'))\n",
        "\n",
        "# repetition\n",
        "my_tuple = ('a', 'b') * 5\n",
        "print(my_tuple)\n",
        "\n",
        "# concatenation\n",
        "my_tuple = (1,2,3) + (4,5,6)\n",
        "print(my_tuple)\n",
        "\n",
        "# convert list to a tuple and vice versa\n",
        "my_list = ['a', 'b', 'c', 'd']\n",
        "list_to_tuple = tuple(my_list)\n",
        "print(list_to_tuple)\n",
        "\n",
        "tuple_to_list = list(list_to_tuple)\n",
        "print(tuple_to_list)\n",
        "\n",
        "# convert string to tuple\n",
        "string_to_tuple = tuple('Hello')\n",
        "print(string_to_tuple)"
      ],
      "execution_count": 8,
      "outputs": [
        {
          "output_type": "stream",
          "text": [
            "5\n",
            "2\n",
            "3\n",
            "('a', 'b', 'a', 'b', 'a', 'b', 'a', 'b', 'a', 'b')\n",
            "(1, 2, 3, 4, 5, 6)\n",
            "('a', 'b', 'c', 'd')\n",
            "['a', 'b', 'c', 'd']\n",
            "('H', 'e', 'l', 'l', 'o')\n"
          ],
          "name": "stdout"
        }
      ]
    },
    {
      "cell_type": "markdown",
      "metadata": {
        "id": "WsEDyR9Blv1B",
        "colab_type": "text"
      },
      "source": [
        "Slicing\n",
        "Access sub parts of the tuple wih the use of colon (:), just as with strings."
      ]
    },
    {
      "cell_type": "code",
      "metadata": {
        "id": "fuRMxi-rl0QD",
        "colab_type": "code",
        "colab": {
          "base_uri": "https://localhost:8080/",
          "height": 102
        },
        "outputId": "47d9c92f-b222-4202-82af-0ec4e81fcc16"
      },
      "source": [
        "\n",
        "# a[start:stop:step], default step is 1\n",
        "a = (1, 2, 3, 4, 5, 6, 7, 8, 9, 10)\n",
        "b = a[1:3] # Note that the last index is not included\n",
        "print(b)\n",
        "b = a[2:] # until the end\n",
        "print(b)\n",
        "b = a[:3] # from beginning\n",
        "print(b)\n",
        "b = a[::2] # start to end with every second item\n",
        "print(b)\n",
        "b = a[::-1] # reverse tuple\n",
        "print(b)"
      ],
      "execution_count": 10,
      "outputs": [
        {
          "output_type": "stream",
          "text": [
            "(2, 3)\n",
            "(3, 4, 5, 6, 7, 8, 9, 10)\n",
            "(1, 2, 3)\n",
            "(1, 3, 5, 7, 9)\n",
            "(10, 9, 8, 7, 6, 5, 4, 3, 2, 1)\n"
          ],
          "name": "stdout"
        }
      ]
    },
    {
      "cell_type": "markdown",
      "metadata": {
        "id": "yCMEOgYKl9ww",
        "colab_type": "text"
      },
      "source": [
        "Unpack tuple"
      ]
    },
    {
      "cell_type": "code",
      "metadata": {
        "id": "odbsGh4wmDF-",
        "colab_type": "code",
        "colab": {
          "base_uri": "https://localhost:8080/",
          "height": 119
        },
        "outputId": "59cc65ab-7a4a-499c-932a-e6c80f311945"
      },
      "source": [
        "# number of variables have to match number of tuple elements\n",
        "tuple_1 = (\"Max\", 28, \"New York\")\n",
        "name, age, city = tuple_1\n",
        "print(name)\n",
        "print(age)\n",
        "print(city)\n",
        "\n",
        "# tip: unpack multiple elements to a list with *\n",
        "my_tuple = (0, 1, 2, 3, 4, 5)\n",
        "item_first, *items_between, item_last = my_tuple\n",
        "print(item_first)\n",
        "print(items_between)\n",
        "print(item_last)"
      ],
      "execution_count": 11,
      "outputs": [
        {
          "output_type": "stream",
          "text": [
            "Max\n",
            "28\n",
            "New York\n",
            "0\n",
            "[1, 2, 3, 4]\n",
            "5\n"
          ],
          "name": "stdout"
        }
      ]
    },
    {
      "cell_type": "markdown",
      "metadata": {
        "id": "2Qf1igztmLCP",
        "colab_type": "text"
      },
      "source": [
        "Nested tuples\n",
        "Tuples can contain other tuples (or other container types)."
      ]
    },
    {
      "cell_type": "code",
      "metadata": {
        "id": "pTeJWFgBmOyU",
        "colab_type": "code",
        "colab": {
          "base_uri": "https://localhost:8080/",
          "height": 51
        },
        "outputId": "2a881259-b014-429f-e13b-ffdf3ab904d2"
      },
      "source": [
        "a = ((0, 1), ('age', 'height'))\n",
        "print(a)\n",
        "print(a[0])"
      ],
      "execution_count": 12,
      "outputs": [
        {
          "output_type": "stream",
          "text": [
            "((0, 1), ('age', 'height'))\n",
            "(0, 1)\n"
          ],
          "name": "stdout"
        }
      ]
    },
    {
      "cell_type": "markdown",
      "metadata": {
        "id": "2berx5K_mUYX",
        "colab_type": "text"
      },
      "source": [
        "Compare tuple and list\n",
        "The immutability of tuples enables Python to make internal optimizations. Thus, tuples can be more efficient when working with large data."
      ]
    },
    {
      "cell_type": "code",
      "metadata": {
        "id": "LbxlF_t7mYmn",
        "colab_type": "code",
        "colab": {
          "base_uri": "https://localhost:8080/",
          "height": 85
        },
        "outputId": "9af87961-932f-4b8f-83de-f371f0d3f8e8"
      },
      "source": [
        "# compare the size\n",
        "import sys\n",
        "my_list = [0, 1, 2, \"hello\", True]\n",
        "my_tuple = (0, 1, 2, \"hello\", True)\n",
        "print(sys.getsizeof(my_list), \"bytes\")\n",
        "print(sys.getsizeof(my_tuple), \"bytes\")\n",
        "\n",
        "# compare the execution time of a list vs. tuple creation statement\n",
        "import timeit\n",
        "print(timeit.timeit(stmt=\"[0, 1, 2, 3, 4, 5]\", number=1000000))\n",
        "print(timeit.timeit(stmt=\"(0, 1, 2, 3, 4, 5)\", number=1000000))"
      ],
      "execution_count": 13,
      "outputs": [
        {
          "output_type": "stream",
          "text": [
            "104 bytes\n",
            "88 bytes\n",
            "0.07221581700002844\n",
            "0.013197562000073049\n"
          ],
          "name": "stdout"
        }
      ]
    }
  ]
}